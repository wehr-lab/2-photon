version https://git-lfs.github.com/spec/v1
oid sha256:fd27b8dcb7f3377951c213556a4242672839119c555e5b47219487b00a1ccb81
size 96675
