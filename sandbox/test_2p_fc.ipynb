version https://git-lfs.github.com/spec/v1
oid sha256:8913a4041b7806f0c0b8f22e3ab7f5921be3762fc847744b448a81cab0b3e179
size 173208
