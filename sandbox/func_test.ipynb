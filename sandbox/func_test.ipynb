version https://git-lfs.github.com/spec/v1
oid sha256:bee933f24e0a9ede46d411b7839027e04e14bec0f91cea829e11b0434d83b3b3
size 4368
