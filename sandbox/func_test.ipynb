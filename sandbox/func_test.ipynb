version https://git-lfs.github.com/spec/v1
oid sha256:e567ae41d7568e0ff5789fab26864e7ab07b3e96596cecd694f61c83d4d32086
size 199388
