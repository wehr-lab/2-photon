version https://git-lfs.github.com/spec/v1
oid sha256:d43364f1e8695754f91ec0474a06238ee07d5a192f3f676688c839dd1ea684bc
size 1267569
